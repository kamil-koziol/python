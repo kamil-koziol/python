{
 "cells": [
  {
   "cell_type": "code",
   "execution_count": 1,
   "metadata": {},
   "outputs": [],
   "source": [
    "# https://www.w3resource.com/python-exercises/data-structures-and-algorithms/python-recursion.php\n",
    "# Rozwiązania poniżej"
   ]
  },
  {
   "cell_type": "code",
   "execution_count": 21,
   "metadata": {},
   "outputs": [
    {
     "name": "stdout",
     "output_type": "stream",
     "text": [
      "15\n"
     ]
    }
   ],
   "source": [
    "# Rekurencja 1\n",
    "\n",
    "def suma(arr):\n",
    "    if len(arr) == 1:\n",
    "        return arr[0]\n",
    "    return arr[0] + suma(arr[1:])  \n",
    "\n",
    "array = [1,2,3,4,5]\n",
    "print(suma(array))"
   ]
  },
  {
   "cell_type": "code",
   "execution_count": 22,
   "metadata": {},
   "outputs": [],
   "source": [
    "# Rekurencja 2 - Głupie"
   ]
  },
  {
   "cell_type": "code",
   "execution_count": 62,
   "metadata": {},
   "outputs": [
    {
     "name": "stdout",
     "output_type": "stream",
     "text": [
      "5\n"
     ]
    }
   ],
   "source": [
    "# Rekurencja 3\n",
    "# Test Data: [1, 2, [3,4], [5,6]]\n",
    "# Expected Result: 21\n",
    "\n",
    "def listSum(arr):\n",
    "    total = 0\n",
    "    for num in arr:\n",
    "        if type(num) == list:\n",
    "            total += listSum(num)\n",
    "        else:\n",
    "            total += num\n",
    "    return total\n",
    "\n",
    "myArr = [[1,1], [1,[1,1]]]\n",
    "print(listSum(myArr))"
   ]
  },
  {
   "cell_type": "code",
   "execution_count": 63,
   "metadata": {},
   "outputs": [
    {
     "name": "stdout",
     "output_type": "stream",
     "text": [
      "120\n"
     ]
    }
   ],
   "source": [
    "# Rekurencja 4\n",
    "def silnia(n):\n",
    "    if n in (0,1):\n",
    "        return 1\n",
    "    return n * silnia(n-1)\n",
    "print(silnia(5))"
   ]
  },
  {
   "cell_type": "code",
   "execution_count": 68,
   "metadata": {},
   "outputs": [
    {
     "name": "stdout",
     "output_type": "stream",
     "text": [
      "13\n"
     ]
    }
   ],
   "source": [
    "# Rekurencja 5\n",
    "def fib(n):\n",
    "    if n in (1,2):\n",
    "        return 1\n",
    "    return fib(n-1) + fib(n-2)\n",
    "\n",
    "print(fib(7))"
   ]
  },
  {
   "cell_type": "code",
   "execution_count": 78,
   "metadata": {},
   "outputs": [
    {
     "name": "stdout",
     "output_type": "stream",
     "text": [
      "1.0\n"
     ]
    }
   ],
   "source": [
    "# Rekurencja 6\n",
    "def sumDigits(num):\n",
    "    if num < 10:\n",
    "        return num\n",
    "    return num%10 + sumDigits((num-num%10)/10)\n",
    "print(sumDigits(10))"
   ]
  },
  {
   "cell_type": "code",
   "execution_count": 77,
   "metadata": {},
   "outputs": [
    {
     "data": {
      "text/plain": [
       "0"
      ]
     },
     "execution_count": 77,
     "metadata": {},
     "output_type": "execute_result"
    }
   ],
   "source": []
  },
  {
   "cell_type": "code",
   "execution_count": null,
   "metadata": {},
   "outputs": [],
   "source": []
  }
 ],
 "metadata": {
  "kernelspec": {
   "display_name": "Python 3",
   "language": "python",
   "name": "python3"
  },
  "language_info": {
   "codemirror_mode": {
    "name": "ipython",
    "version": 3
   },
   "file_extension": ".py",
   "mimetype": "text/x-python",
   "name": "python",
   "nbconvert_exporter": "python",
   "pygments_lexer": "ipython3",
   "version": "3.7.4"
  }
 },
 "nbformat": 4,
 "nbformat_minor": 2
}
