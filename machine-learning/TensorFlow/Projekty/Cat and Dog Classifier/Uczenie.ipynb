{
 "cells": [
  {
   "cell_type": "code",
   "execution_count": 14,
   "metadata": {},
   "outputs": [],
   "source": [
    "import numpy as np\n",
    "import tensorflow as tf\n",
    "from tensorflow.keras.models import Sequential\n",
    "from tensorflow.keras.layers import Conv2D, Activation, Dense, Dropout, Flatten, MaxPooling2D\n",
    "import matplotlib.pyplot as plt"
   ]
  },
  {
   "cell_type": "code",
   "execution_count": 24,
   "metadata": {},
   "outputs": [],
   "source": [
    "X = np.load(\"./X.npy\")\n",
    "y = np.load(\"./y.npy\")\n",
    "\n",
    "X = X/255\n",
    "\n",
    "model = Sequential([\n",
    "    Conv2D(64, (3,3), input_shape=(100,100,1), activation=\"relu\"),\n",
    "    MaxPooling2D(pool_size=(2,2)),\n",
    "    Conv2D(64, (3,3), activation=\"relu\"),\n",
    "    MaxPooling2D(pool_size=(2,2)),\n",
    "    Flatten(),\n",
    "    Dense(64, activation=\"relu\"),\n",
    "    Dense(1, activation=\"sigmoid\")\n",
    "])\n",
    "\n",
    "model.compile(\n",
    "    loss=\"binary_crossentropy\",\n",
    "    optimizer = \"adam\",\n",
    "    metrics = ['accuracy'])"
   ]
  },
  {
   "cell_type": "code",
   "execution_count": 25,
   "metadata": {},
   "outputs": [
    {
     "name": "stdout",
     "output_type": "stream",
     "text": [
      "Train on 22451 samples, validate on 2495 samples\n",
      "Epoch 1/10\n",
      "WARNING:tensorflow:Entity <function Function._initialize_uninitialized_variables.<locals>.initialize_variables at 0x14436bdd0> could not be transformed and will be executed as-is. Please report this to the AutoGraph team. When filing the bug, set the verbosity to 10 (on Linux, `export AUTOGRAPH_VERBOSITY=10`) and attach the full output. Cause: module 'gast' has no attribute 'Num'\n",
      "WARNING: Entity <function Function._initialize_uninitialized_variables.<locals>.initialize_variables at 0x14436bdd0> could not be transformed and will be executed as-is. Please report this to the AutoGraph team. When filing the bug, set the verbosity to 10 (on Linux, `export AUTOGRAPH_VERBOSITY=10`) and attach the full output. Cause: module 'gast' has no attribute 'Num'\n",
      "22451/22451 [==============================] - 194s 9ms/sample - loss: 0.6297 - accuracy: 0.6381 - val_loss: 0.5448 - val_accuracy: 0.7251\n",
      "Epoch 2/10\n",
      "22451/22451 [==============================] - 200s 9ms/sample - loss: 0.5094 - accuracy: 0.7508 - val_loss: 0.4944 - val_accuracy: 0.7639\n",
      "Epoch 3/10\n",
      "22451/22451 [==============================] - 195s 9ms/sample - loss: 0.4236 - accuracy: 0.8057 - val_loss: 0.4976 - val_accuracy: 0.7675\n",
      "Epoch 4/10\n",
      "22451/22451 [==============================] - 194s 9ms/sample - loss: 0.3284 - accuracy: 0.8568 - val_loss: 0.5068 - val_accuracy: 0.7643\n",
      "Epoch 5/10\n",
      "22451/22451 [==============================] - 209s 9ms/sample - loss: 0.2104 - accuracy: 0.9156 - val_loss: 0.6130 - val_accuracy: 0.7627\n",
      "Epoch 6/10\n",
      "22451/22451 [==============================] - 209s 9ms/sample - loss: 0.1154 - accuracy: 0.9571 - val_loss: 0.7785 - val_accuracy: 0.7555\n",
      "Epoch 7/10\n",
      "22451/22451 [==============================] - 208s 9ms/sample - loss: 0.0595 - accuracy: 0.9790 - val_loss: 1.0084 - val_accuracy: 0.7627\n",
      "Epoch 8/10\n",
      "22451/22451 [==============================] - 206s 9ms/sample - loss: 0.0441 - accuracy: 0.9860 - val_loss: 1.3080 - val_accuracy: 0.7623\n",
      "Epoch 9/10\n",
      "22451/22451 [==============================] - 196s 9ms/sample - loss: 0.0317 - accuracy: 0.9898 - val_loss: 1.2506 - val_accuracy: 0.7603\n",
      "Epoch 10/10\n",
      "22451/22451 [==============================] - 201s 9ms/sample - loss: 0.0300 - accuracy: 0.9904 - val_loss: 1.3964 - val_accuracy: 0.7623\n"
     ]
    },
    {
     "data": {
      "text/plain": [
       "<tensorflow.python.keras.callbacks.History at 0x144363090>"
      ]
     },
     "execution_count": 25,
     "metadata": {},
     "output_type": "execute_result"
    }
   ],
   "source": [
    "model.fit(X,y,batch_size=10, validation_split=0.1, epochs=10)"
   ]
  },
  {
   "cell_type": "code",
   "execution_count": 26,
   "metadata": {},
   "outputs": [],
   "source": [
    "model.save(\"model.h5\")"
   ]
  },
  {
   "cell_type": "code",
   "execution_count": null,
   "metadata": {},
   "outputs": [],
   "source": []
  }
 ],
 "metadata": {
  "file_extension": ".py",
  "kernelspec": {
   "display_name": "Python 3",
   "language": "python",
   "name": "python3"
  },
  "language_info": {
   "codemirror_mode": {
    "name": "ipython",
    "version": 3
   },
   "file_extension": ".py",
   "mimetype": "text/x-python",
   "name": "python",
   "nbconvert_exporter": "python",
   "pygments_lexer": "ipython3",
   "version": "3.7.4"
  },
  "mimetype": "text/x-python",
  "name": "python",
  "npconvert_exporter": "python",
  "pygments_lexer": "ipython3",
  "version": 3
 },
 "nbformat": 4,
 "nbformat_minor": 4
}
