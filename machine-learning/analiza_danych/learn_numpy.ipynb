{
 "cells": [
  {
   "cell_type": "code",
   "execution_count": 1,
   "metadata": {},
   "outputs": [],
   "source": [
    "import numpy as np"
   ]
  },
  {
   "cell_type": "code",
   "execution_count": 2,
   "metadata": {},
   "outputs": [],
   "source": [
    "x = np.arange(1,100)"
   ]
  },
  {
   "cell_type": "code",
   "execution_count": 3,
   "metadata": {},
   "outputs": [
    {
     "name": "stdout",
     "output_type": "stream",
     "text": [
      "[   1    4    9   16   25   36   49   64   81  100  121  144  169  196\n",
      "  225  256  289  324  361  400  441  484  529  576  625  676  729  784\n",
      "  841  900  961 1024 1089 1156 1225 1296 1369 1444 1521 1600 1681 1764\n",
      " 1849 1936 2025 2116 2209 2304 2401 2500 2601 2704 2809 2916 3025 3136\n",
      " 3249 3364 3481 3600 3721 3844 3969 4096 4225 4356 4489 4624 4761 4900\n",
      " 5041 5184 5329 5476 5625 5776 5929 6084 6241 6400 6561 6724 6889 7056\n",
      " 7225 7396 7569 7744 7921 8100 8281 8464 8649 8836 9025 9216 9409 9604\n",
      " 9801]\n"
     ]
    }
   ],
   "source": [
    "x = x**2\n",
    "print(x)"
   ]
  },
  {
   "cell_type": "code",
   "execution_count": 4,
   "metadata": {},
   "outputs": [
    {
     "data": {
      "text/plain": [
       "array([False,  True, False,  True, False,  True, False,  True, False,\n",
       "        True, False,  True, False,  True, False,  True, False,  True,\n",
       "       False,  True, False,  True, False,  True, False,  True, False,\n",
       "        True, False,  True, False,  True, False,  True, False,  True,\n",
       "       False,  True, False,  True, False,  True, False,  True, False,\n",
       "        True, False,  True, False,  True, False,  True, False,  True,\n",
       "       False,  True, False,  True, False,  True, False,  True, False,\n",
       "        True, False,  True, False,  True, False,  True, False,  True,\n",
       "       False,  True, False,  True, False,  True, False,  True, False,\n",
       "        True, False,  True, False,  True, False,  True, False,  True,\n",
       "       False,  True, False,  True, False,  True, False,  True, False])"
      ]
     },
     "execution_count": 4,
     "metadata": {},
     "output_type": "execute_result"
    }
   ],
   "source": [
    "x%2==0"
   ]
  },
  {
   "cell_type": "code",
   "execution_count": 5,
   "metadata": {},
   "outputs": [
    {
     "data": {
      "text/plain": [
       "array([   4,   16,   36,   64,  100,  144,  196,  256,  324,  400,  484,\n",
       "        576,  676,  784,  900, 1024, 1156, 1296, 1444, 1600, 1764, 1936,\n",
       "       2116, 2304, 2500, 2704, 2916, 3136, 3364, 3600, 3844, 4096, 4356,\n",
       "       4624, 4900, 5184, 5476, 5776, 6084, 6400, 6724, 7056, 7396, 7744,\n",
       "       8100, 8464, 8836, 9216, 9604])"
      ]
     },
     "execution_count": 5,
     "metadata": {},
     "output_type": "execute_result"
    }
   ],
   "source": [
    "x[x%2==0]"
   ]
  },
  {
   "cell_type": "code",
   "execution_count": 6,
   "metadata": {},
   "outputs": [],
   "source": [
    "arr = np.array([[1, 2, 3], [4, 5, 6]])"
   ]
  },
  {
   "cell_type": "code",
   "execution_count": 7,
   "metadata": {},
   "outputs": [
    {
     "name": "stdout",
     "output_type": "stream",
     "text": [
      "5\n",
      "5\n"
     ]
    }
   ],
   "source": [
    "print(arr[1][1])\n",
    "print(arr[1,1])"
   ]
  },
  {
   "cell_type": "code",
   "execution_count": 8,
   "metadata": {},
   "outputs": [
    {
     "name": "stdout",
     "output_type": "stream",
     "text": [
      "0\n",
      "1\n",
      "2\n",
      "3\n"
     ]
    }
   ],
   "source": [
    "a = np.array(42)\n",
    "b = np.array([1, 2, 3, 4, 5])\n",
    "c = np.array([[1, 2, 3], [4, 5, 6]])\n",
    "d = np.array([[[1, 2, 3], [4, 5, 6]], [[1, 2, 3], [4, 5, 6]]])\n",
    "\n",
    "print(a.ndim)\n",
    "print(b.ndim)\n",
    "print(c.ndim)\n",
    "print(d.ndim) "
   ]
  },
  {
   "cell_type": "code",
   "execution_count": 9,
   "metadata": {},
   "outputs": [
    {
     "name": "stdout",
     "output_type": "stream",
     "text": [
      "[[[[[1 2 3 4]]]]]\n"
     ]
    }
   ],
   "source": [
    "arr2 = np.array([1, 2, 3, 4], ndmin=5)\n",
    "\n",
    "print(arr2)"
   ]
  },
  {
   "cell_type": "code",
   "execution_count": 10,
   "metadata": {},
   "outputs": [],
   "source": [
    "arr3 = np.array([1,2,3,4,5, 2**60/2], dtype=\"int64\")"
   ]
  },
  {
   "cell_type": "code",
   "execution_count": 11,
   "metadata": {},
   "outputs": [
    {
     "data": {
      "text/plain": [
       "48"
      ]
     },
     "execution_count": 11,
     "metadata": {},
     "output_type": "execute_result"
    }
   ],
   "source": [
    "arr3.nbytes"
   ]
  },
  {
   "cell_type": "code",
   "execution_count": 12,
   "metadata": {},
   "outputs": [
    {
     "data": {
      "text/plain": [
       "array([1.00000000e+00, 2.00000000e+00, 3.00000000e+00, 4.00000000e+00,\n",
       "       5.00000000e+00, 5.76460752e+17])"
      ]
     },
     "execution_count": 12,
     "metadata": {},
     "output_type": "execute_result"
    }
   ],
   "source": [
    "arr3.astype(float)"
   ]
  },
  {
   "cell_type": "code",
   "execution_count": 13,
   "metadata": {},
   "outputs": [
    {
     "name": "stdout",
     "output_type": "stream",
     "text": [
      "None\n"
     ]
    }
   ],
   "source": [
    "print(arr3.base)"
   ]
  },
  {
   "cell_type": "code",
   "execution_count": 14,
   "metadata": {},
   "outputs": [
    {
     "name": "stdout",
     "output_type": "stream",
     "text": [
      "[[ 1  2  3]\n",
      " [ 4  5  6]\n",
      " [ 7  8  9]\n",
      " [10 11 12]]\n"
     ]
    }
   ],
   "source": [
    "arr4 = np.array([1, 2, 3, 4, 5, 6, 7, 8, 9, 10, 11, 12])\n",
    "newarr = arr4.reshape(4, 3)\n",
    "print(newarr)"
   ]
  },
  {
   "cell_type": "code",
   "execution_count": 15,
   "metadata": {},
   "outputs": [
    {
     "name": "stdout",
     "output_type": "stream",
     "text": [
      "[1 2 3 4 5 6]\n"
     ]
    }
   ],
   "source": [
    "arr5 = np.array([[1, 2, 3], [4, 5, 6]])\n",
    "\n",
    "newarr = arr5.reshape(-1)\n",
    "\n",
    "print(newarr)"
   ]
  },
  {
   "cell_type": "code",
   "execution_count": 16,
   "metadata": {},
   "outputs": [],
   "source": [
    "from time import time"
   ]
  },
  {
   "cell_type": "code",
   "execution_count": 17,
   "metadata": {},
   "outputs": [
    {
     "name": "stdout",
     "output_type": "stream",
     "text": [
      "0.07099413871765137\n"
     ]
    }
   ],
   "source": [
    "start = time()\n",
    "test1 = [i for i in range(1000000)]\n",
    "print(time()-start)\n",
    "del test1"
   ]
  },
  {
   "cell_type": "code",
   "execution_count": 18,
   "metadata": {},
   "outputs": [
    {
     "name": "stdout",
     "output_type": "stream",
     "text": [
      "0.0051021575927734375\n"
     ]
    }
   ],
   "source": [
    "start = time()\n",
    "test1 = np.arange(1000000)\n",
    "print(time()-start)\n",
    "del test1"
   ]
  },
  {
   "cell_type": "code",
   "execution_count": 19,
   "metadata": {},
   "outputs": [
    {
     "name": "stdout",
     "output_type": "stream",
     "text": [
      "0.16389989852905273\n"
     ]
    }
   ],
   "source": [
    "test1 = [i for i in range(1000000)]\n",
    "start = time()\n",
    "for i in range(1000000):\n",
    "    test1[i] += 10\n",
    "print(time()-start)\n",
    "del test1"
   ]
  },
  {
   "cell_type": "code",
   "execution_count": 20,
   "metadata": {},
   "outputs": [
    {
     "name": "stdout",
     "output_type": "stream",
     "text": [
      "0.0025663375854492188\n"
     ]
    }
   ],
   "source": [
    "test1 = np.arange(1000000)\n",
    "start = time()\n",
    "test1 += 10\n",
    "print(time()-start)\n",
    "del test1"
   ]
  },
  {
   "cell_type": "code",
   "execution_count": 21,
   "metadata": {},
   "outputs": [
    {
     "data": {
      "text/plain": [
       "(array([0, 1, 1]), array([1, 0, 2]))"
      ]
     },
     "execution_count": 21,
     "metadata": {},
     "output_type": "execute_result"
    }
   ],
   "source": [
    "np.where(arr%2==0)"
   ]
  },
  {
   "cell_type": "code",
   "execution_count": 22,
   "metadata": {},
   "outputs": [
    {
     "name": "stdout",
     "output_type": "stream",
     "text": [
      "[1 2 3]\n"
     ]
    }
   ],
   "source": [
    "arr6 = np.array([1, 3, 5, 7])\n",
    "\n",
    "x = np.searchsorted(arr6, [2, 4, 6])\n",
    "print(x)"
   ]
  },
  {
   "cell_type": "code",
   "execution_count": 23,
   "metadata": {},
   "outputs": [
    {
     "data": {
      "text/plain": [
       "array([92, 79,  1, 86, 64, 28, 64, 27, 49, 58, 38, 93, 68, 91, 93, 42, 92,\n",
       "       23, 71, 45, 30, 36, 17, 30, 92, 65, 38, 60, 47, 67,  6, 62, 39, 72,\n",
       "       88, 19, 12, 97, 65, 57, 63, 34, 36, 42, 52, 65, 80, 69, 85, 72, 64,\n",
       "       25, 51, 80, 30, 32, 55, 33, 32,  2, 58, 96, 91, 56, 32, 90, 43, 81,\n",
       "       14, 28, 62, 95, 74, 52, 64, 14, 25, 10, 50, 77, 78, 10, 53, 96, 63,\n",
       "       76, 42, 11, 68, 58, 40, 81, 43, 58, 31, 86, 40, 19, 87, 79, 57, 67,\n",
       "       91, 12, 50, 15, 30, 85, 77, 80, 41, 79, 77, 11, 99,  8, 60, 47, 65,\n",
       "        2, 16, 15, 68, 28, 80, 55, 86, 38, 31, 79, 75, 93, 99, 34, 75, 32,\n",
       "       30, 52, 54, 17,  5, 84, 91,  1, 98, 79, 33, 98, 65, 56, 76, 47, 47,\n",
       "       35, 81, 57,  0, 75, 24, 70, 75, 39, 11, 40, 59, 51, 80, 91, 29, 37,\n",
       "        1, 18, 39, 76, 12, 38, 57, 74, 29, 48, 75, 10, 47, 57, 21, 14,  9,\n",
       "       77, 72, 42, 96, 37, 29, 66, 41, 71, 13, 97, 72, 91, 30, 18, 68, 15,\n",
       "       78, 38, 78, 37, 63, 27, 12,  5, 98, 77, 58, 18, 31, 43, 63, 12, 66,\n",
       "       62, 74, 63, 37, 25, 28, 41, 79, 24, 17, 44, 57,  2, 78, 88, 33, 65,\n",
       "       44, 95, 27, 21, 72, 29, 51, 69, 48, 92, 46, 16, 65, 38, 81, 87, 18,\n",
       "       19, 80,  3, 45, 44, 68, 22, 63, 17, 64, 88, 27, 11, 86,  2, 49, 13,\n",
       "       80, 39, 86, 17, 56, 81, 60, 42, 17, 69, 43, 21, 48,  7, 51, 90, 14,\n",
       "       19, 11, 71,  9, 34, 58, 54, 89, 57, 72, 87, 63, 18,  6,  5, 77, 55,\n",
       "       23, 89, 74, 62, 27, 74, 19, 73, 25, 63, 58, 72, 46,  0, 90, 32, 58,\n",
       "       76, 10, 88,  2, 80, 34, 29, 36, 65,  4, 24, 13, 40, 10, 76,  7,  0,\n",
       "        1, 22, 96, 60, 91, 13, 28, 42, 58, 28, 79, 72, 81, 30, 51, 86, 25,\n",
       "       80, 10, 67, 70, 26, 88, 87,  8, 26, 72, 38, 49, 37, 48, 17, 99, 15,\n",
       "       17, 28, 69, 79, 56, 58,  5, 75, 57, 26, 24, 97, 95, 10,  4, 39, 12,\n",
       "       81, 69, 91,  1, 36,  8, 51, 91, 11, 66, 30, 16, 68,  8, 43, 62, 95,\n",
       "        4, 29, 66, 74,  6, 15, 93, 11,  2, 97, 48,  3,  2, 60, 47, 44,  6,\n",
       "       76, 90, 29, 78, 28, 44, 49, 34, 30, 40, 94, 43, 49, 63, 28, 61, 90,\n",
       "       51, 85, 17, 26, 12, 89, 26, 28, 23, 33, 83, 78, 37, 99, 72, 63, 29,\n",
       "       43, 36,  2, 90, 69, 60, 29, 35, 78, 15, 38, 84,  3, 72, 60, 15, 25,\n",
       "       67, 16, 37, 35,  3, 19,  4, 64, 42, 29, 58, 25,  7,  7, 87,  8, 56,\n",
       "       98, 36, 98, 36,  8, 28, 45, 12, 82, 86, 12, 73, 23,  1, 53,  0,  9,\n",
       "       57, 89,  1,  2, 85, 94, 59, 38,  3, 12, 41,  2, 51,  6, 25, 74, 55,\n",
       "       67, 71,  4, 90, 24, 69, 94, 99, 40,  0, 14, 90, 60, 56, 73, 62, 70,\n",
       "       34, 98, 81, 35, 81, 53, 93, 56, 44, 13,  5, 66, 52, 68,  8,  2, 56,\n",
       "       51, 49, 52, 95, 16, 10,  2, 60, 69, 16,  1, 63, 15, 79, 97, 73, 72,\n",
       "       29, 37, 20, 69, 31, 65, 75, 14, 86, 48, 18, 66, 18,  9, 36, 87, 49,\n",
       "       72, 35, 31, 22,  9, 72, 70, 38, 18, 88, 19, 43, 66, 95, 26, 54, 84,\n",
       "       40, 14, 86, 17,  5, 44, 99, 14, 86, 44, 65, 80, 46, 38, 13, 81, 52,\n",
       "       77, 60, 33, 92, 55, 31,  8, 65, 16,  8, 23, 61, 49, 48, 56, 40, 74,\n",
       "       78, 24, 69, 52, 98, 99, 52, 19, 75, 36, 55, 69, 53, 17, 78, 79, 77,\n",
       "       41, 15, 62, 71, 61, 79, 46, 41, 74, 28, 67, 63,  7,  1, 28, 16, 61,\n",
       "       45,  1, 29, 67, 76, 93, 50, 88, 69, 97, 92, 52, 72, 29, 84, 22, 17,\n",
       "       65, 44, 39, 58, 25,  6, 40, 34, 83, 86, 93, 70, 98, 34,  6, 13, 59,\n",
       "       76, 81, 85, 81, 97, 14, 21, 79, 34, 45, 92, 58, 47, 89, 33, 86, 72,\n",
       "       35, 91,  2, 93, 92, 81, 30, 54, 26, 68, 15, 51, 98, 37, 34,  9, 15,\n",
       "       71,  7, 78, 70, 60, 68, 46, 33, 87,  5,  4, 49, 97, 97, 21, 36, 84,\n",
       "       97, 35,  3, 92, 67, 21, 90, 42,  0, 54, 51, 40, 31, 14, 21,  8, 17,\n",
       "       89, 88,  4, 26,  2, 37, 66, 98, 16, 34, 61, 14, 47,  0, 36, 25, 77,\n",
       "       72, 94, 47, 36, 37, 91, 78, 38, 59,  8, 74, 81, 16, 77, 51, 46, 72,\n",
       "       19,  2, 30,  0, 59, 81,  2, 93, 80, 42, 67, 63, 47, 24,  2, 45, 82,\n",
       "       24, 92, 24, 65, 96,  8, 29, 30, 95, 45,  6, 62, 69, 68,  5, 96, 55,\n",
       "       55, 46, 22, 45, 80, 48, 10, 12, 12, 14, 44, 28, 69, 21,  6, 15, 84,\n",
       "       96, 29, 87, 43, 44, 37, 19, 77, 78, 16, 71,  5, 18, 53, 32,  2, 98,\n",
       "       78, 93, 59, 88, 72, 38, 77, 99, 26, 10, 82,  9, 19, 35, 78, 18, 42,\n",
       "        7,  4, 91, 91, 27, 48, 61, 35, 84, 28, 49, 98, 76, 11, 71, 13, 56,\n",
       "       94, 60, 24, 99, 36,  7, 89,  7, 31, 96, 88, 28, 68, 95, 81, 76, 81,\n",
       "       25, 68, 58, 97, 93, 40, 23, 68, 40, 67, 41, 26, 86, 59, 98, 32, 44,\n",
       "       96, 28, 34, 75, 46, 63, 89, 11, 88, 37, 40,  9, 45, 58, 73, 34, 77,\n",
       "       11, 61, 63, 90, 49, 97, 60,  4, 23, 88, 53, 13, 31, 34, 81, 70, 30,\n",
       "       26, 52, 45, 72, 53, 10, 68,  6, 23, 42, 47, 95, 83, 28])"
      ]
     },
     "execution_count": 23,
     "metadata": {},
     "output_type": "execute_result"
    }
   ],
   "source": [
    "np.random.randint(100, size=(1000))"
   ]
  },
  {
   "cell_type": "code",
   "execution_count": 24,
   "metadata": {},
   "outputs": [
    {
     "data": {
      "text/plain": [
       "array([5, 5, 5, 7, 7, 3, 5, 5, 5, 5, 7, 5, 5, 5, 7, 7, 7, 7, 5, 7, 3, 3,\n",
       "       7, 5, 7, 7, 5, 5, 5, 7, 5, 7, 3, 5, 5, 5, 7, 5, 7, 3, 7, 3, 7, 7,\n",
       "       5, 7, 7, 5, 7, 5, 7, 7, 7, 7, 5, 7, 7, 7, 5, 3, 7, 5, 5, 5, 5, 7,\n",
       "       7, 7, 7, 7, 7, 5, 7, 7, 7, 7, 7, 7, 7, 3, 7, 5, 7, 3, 3, 7, 7, 7,\n",
       "       3, 7, 5, 7, 5, 7, 5, 7, 7, 5, 5, 3])"
      ]
     },
     "execution_count": 24,
     "metadata": {},
     "output_type": "execute_result"
    }
   ],
   "source": [
    "np.random.choice([3, 5, 7, 9], p=[0.1, 0.3, 0.6, 0.0], size=(100))"
   ]
  },
  {
   "cell_type": "code",
   "execution_count": 25,
   "metadata": {},
   "outputs": [
    {
     "data": {
      "text/plain": [
       "array([3, 3, 3, 3, 1, 2, 3, 3, 3])"
      ]
     },
     "execution_count": 25,
     "metadata": {},
     "output_type": "execute_result"
    }
   ],
   "source": [
    "np.random.permutation([1,2,3,3,3,3,3,3,3])"
   ]
  },
  {
   "cell_type": "code",
   "execution_count": 26,
   "metadata": {},
   "outputs": [
    {
     "name": "stdout",
     "output_type": "stream",
     "text": [
      "[ 5  7  9 11]\n"
     ]
    }
   ],
   "source": [
    "x = [1, 2, 3, 4]\n",
    "y = [4, 5, 6, 7]\n",
    "print(np.add(x, y))"
   ]
  },
  {
   "cell_type": "code",
   "execution_count": null,
   "metadata": {},
   "outputs": [],
   "source": []
  }
 ],
 "metadata": {
  "kernelspec": {
   "display_name": "Python 3",
   "language": "python",
   "name": "python3"
  },
  "language_info": {
   "codemirror_mode": {
    "name": "ipython",
    "version": 3
   },
   "file_extension": ".py",
   "mimetype": "text/x-python",
   "name": "python",
   "nbconvert_exporter": "python",
   "pygments_lexer": "ipython3",
   "version": "3.8.1"
  }
 },
 "nbformat": 4,
 "nbformat_minor": 4
}
