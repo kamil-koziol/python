{
 "cells": [
  {
   "cell_type": "code",
   "execution_count": 1,
   "metadata": {},
   "outputs": [],
   "source": [
    "import hashlib\n",
    "import binascii"
   ]
  },
  {
   "cell_type": "markdown",
   "metadata": {},
   "source": [
    "In computer programming hash functions map text (or other data) to integer numbers. Usually different inputs maps to different outputs, but sometimes a collision may happen (different input with the same output).\n",
    "Cryptographic hash functions transform text or binary data to fixed-length hash value and are known to be collision-resistant and irreversible. Example of cryptographic hash function is SHA3-256:"
   ]
  },
  {
   "cell_type": "code",
   "execution_count": 36,
   "metadata": {},
   "outputs": [
    {
     "name": "stdout",
     "output_type": "stream",
     "text": [
      "64\n",
      "SHA3-512('hello') = b'75d527c368f2efe848ecf6b073a36767800805e9eef2b1857d5f984f036eb6df891d75f72d9b154518c1cd58835286d1da9a38deba3de98b5a53e5ed78a84976'\n"
     ]
    }
   ],
   "source": [
    "sha3_512hash = hashlib.sha3_512(b'hello')\n",
    "print(sha3_512hash.digest_size)\n",
    "print(\"SHA3-512('hello') =\", binascii.hexlify(sha3_512hash.digest()))"
   ]
  },
  {
   "cell_type": "code",
   "execution_count": 37,
   "metadata": {},
   "outputs": [],
   "source": [
    "import hmac"
   ]
  },
  {
   "cell_type": "code",
   "execution_count": 38,
   "metadata": {},
   "outputs": [
    {
     "name": "stdout",
     "output_type": "stream",
     "text": [
      "1738802bb9ea2be407538f6a7711b86310f16628d3f95cbb04056b659a389ac37fb0c086dd3c4415442e0bf27e3107a4476990b11cf54ee73ea87eb014a2dd8d 128\n"
     ]
    }
   ],
   "source": [
    "key = b\"12345\"\n",
    "msg = b\"sample message\"\n",
    "hmachash = hmac.new(key, msg, hashlib.sha3_512).hexdigest()\n",
    "print(hmachash, len(hmachash))"
   ]
  },
  {
   "cell_type": "code",
   "execution_count": 39,
   "metadata": {},
   "outputs": [
    {
     "name": "stdout",
     "output_type": "stream",
     "text": [
      "128\n",
      "70d29a304ad3c99b124e47d02e15f9c27f9ac1f14b20bad51b3dfbda1cfddfe9ee104e9714c66c18379bf6d695e798beb78bcd6fa43914810ef5640580449dd9\n",
      "128\n"
     ]
    }
   ],
   "source": [
    "import os\n",
    "password = b'haslo'\n",
    "salt = os.urandom(128)\n",
    "iterations = 100_000\n",
    "hashed = hashlib.pbkdf2_hmac(\"sha3-512\", password, salt, iterations)\n",
    "print(hashed.hex())\n",
    "print(len(hashed.hex()))"
   ]
  },
  {
   "cell_type": "markdown",
   "metadata": {},
   "source": [
    "# Scrypt\n",
    "N – iterations count (affects memory and CPU usage), e.g. 16384 or 2048\n",
    "\n",
    "r – block size (affects memory and CPU usage), e.g. 8\n",
    "\n",
    "p – parallelism factor (threads to run in parallel - affects the memory, CPU usage), usually 1\n",
    "\n",
    "password– the input password (8-10 chars minimal length is recommended)\n",
    "\n",
    "salt – securely-generated random bytes (64 bits minimum, 128 bits recommended)\n",
    "\n",
    "derived-key-length - how many bytes to generate as output, e.g. 32 bytes (256 bits)"
   ]
  },
  {
   "cell_type": "code",
   "execution_count": 148,
   "metadata": {},
   "outputs": [
    {
     "name": "stdout",
     "output_type": "stream",
     "text": [
      "00853ae8eafbe47ee451553335e42ec336565450d8e912d5154d258b99f975f27ddbb5d9943b2c4f7526ea642b88f4d206527586f1accacf433e8d5efff0bcc1\n"
     ]
    }
   ],
   "source": [
    "password = b'haslo'\n",
    "salt = os.urandom(16)\n",
    "key = hashlib.scrypt(password=password, salt=salt, n=2**14, r=8, p=1)\n",
    "print(key.hex())"
   ]
  },
  {
   "cell_type": "markdown",
   "metadata": {},
   "source": [
    "## Memory required = 128 * N * r * p bytes"
   ]
  },
  {
   "cell_type": "code",
   "execution_count": 91,
   "metadata": {},
   "outputs": [
    {
     "name": "stdout",
     "output_type": "stream",
     "text": [
      "16.0 MB\n"
     ]
    }
   ],
   "source": [
    "memory = 128 * 2**14 * 8 * 1\n",
    "print(memory/1024/1024, \"MB\")"
   ]
  },
  {
   "cell_type": "markdown",
   "metadata": {},
   "source": [
    "# How passwords should be stored in databases"
   ]
  },
  {
   "cell_type": "code",
   "execution_count": 149,
   "metadata": {},
   "outputs": [],
   "source": [
    "from base64 import b64encode, b64decode\n",
    "def genHash(password: bytes, salt: bytes, n: int, r: int, p: int):\n",
    "    key = hashlib.scrypt(password=password, salt=salt, n=n, r=r, p=p)\n",
    "    return f\"{n}${r}${p}${salt.hex()}${key.hex()}\"\n",
    "\n",
    "password = b'haslo'\n",
    "salt = os.urandom(32)\n",
    "# print(genHash(password, salt, 2**14, 8, 1))\n",
    "#16384$8$1$kytG1MHY1KU=$afc338d494dc89be40e317788e3cd9166d066709db0e6481f0801bd918710f46"
   ]
  },
  {
   "cell_type": "code",
   "execution_count": 16,
   "metadata": {},
   "outputs": [
    {
     "name": "stdout",
     "output_type": "stream",
     "text": [
      "Argon2 raw hash: b'157f21dd3fdf7bafb76d2923ccaffa0b7be7cbae394709474d2bc66ee7b09d3e'\n",
      "Argon2 hash (random salt): $argon2id$v=19$m=32768,t=2,p=2$Jx6BX/4ZR3Z+EkKnoHb/ZA$zDAFZgL5MdeKSrvDMSMzFZST1zlNodVm306pVRzrg9I\n",
      "Argon2 verify (correct password): True\n",
      "Argon2 verify (incorrect password): False\n"
     ]
    }
   ],
   "source": [
    "import argon2, binascii\n",
    "\n",
    "hash = argon2.hash_password_raw(\n",
    "    time_cost=16, memory_cost=2**15, parallelism=2, hash_len=32,\n",
    "    password=b'password', salt=b'some salt', type=argon2.low_level.Type.ID)\n",
    "print(\"Argon2 raw hash:\", binascii.hexlify(hash))\n",
    "\n",
    "argon2Hasher = argon2.PasswordHasher(\n",
    "    time_cost=2, memory_cost=2**15, parallelism=2, hash_len=32, salt_len=16)\n",
    "hash = argon2Hasher.hash(\"password\")\n",
    "print(\"Argon2 hash (random salt):\", hash)\n",
    "\n",
    "verifyValid = argon2Hasher.verify(hash, \"password\")\n",
    "print(\"Argon2 verify (correct password):\", verifyValid)\n",
    "\n",
    "try:\n",
    "    argon2Hasher.verify(hash, \"wrong123\")\n",
    "except:\n",
    "    print(\"Argon2 verify (incorrect password):\", False)"
   ]
  },
  {
   "cell_type": "markdown",
   "metadata": {},
   "source": [
    "# Recommended 4GB for backend, 1GB for front-end"
   ]
  },
  {
   "cell_type": "code",
   "execution_count": 30,
   "metadata": {},
   "outputs": [
    {
     "name": "stdout",
     "output_type": "stream",
     "text": [
      "$argon2id$v=19$m=1048576,t=2,p=8$Tkew9mn0kOZDRgyX+sYOmg$DPyi0+Mtg9pG7bT1aG5OPQ\n",
      "CPU times: user 2.47 s, sys: 488 ms, total: 2.96 s\n",
      "Wall time: 477 ms\n"
     ]
    }
   ],
   "source": [
    "%%time\n",
    "argon2Hasher = argon2.PasswordHasher(memory_cost=1024*1024*1)\n",
    "backendHash = argon2Hasher.hash(\"haslo\")\n",
    "print(backendHash)"
   ]
  },
  {
   "cell_type": "code",
   "execution_count": 32,
   "metadata": {},
   "outputs": [
    {
     "name": "stdout",
     "output_type": "stream",
     "text": [
      "$argon2id$v=19$m=1048576,t=2,p=8$SHS7xEUxBES2IMySIPsNFQ$AtVtDfUTboxIvOhv9yE+lA\n"
     ]
    }
   ],
   "source": [
    "if argon2Hasher.check_needs_rehash(\"$argon2id$v=18$m=1048576,t=2,p=8$onuHP4BZEXp+cJAly0f+7A$Q51bPkzVUSsQ+jP5GMd7Wg\"):\n",
    "    print(argon2Hasher.hash(\"podane_haslo\"))"
   ]
  },
  {
   "cell_type": "code",
   "execution_count": 22,
   "metadata": {},
   "outputs": [],
   "source": [
    "from Crypto.Cipher import AES\n",
    "from Crypto.Random import get_random_bytes\n",
    "\n",
    "key = get_random_bytes(16)\n",
    "cipher = AES.new(key, AES.MODE_CTR)\n",
    "ciphertext, tag = cipher.encrypt_and_digest(b\"eluwina\")\n",
    "\n",
    "file_out = open(\"encrypted.bin\", \"wb\")\n",
    "[ file_out.write(x) for x in (cipher.nonce, tag, ciphertext) ]\n",
    "file_out.close()"
   ]
  },
  {
   "cell_type": "code",
   "execution_count": 23,
   "metadata": {},
   "outputs": [
    {
     "name": "stdout",
     "output_type": "stream",
     "text": [
      "b'eluwina'\n"
     ]
    }
   ],
   "source": [
    "file_in = open(\"encrypted.bin\", \"rb\")\n",
    "nonce, tag, ciphertext = [ file_in.read(x) for x in (16, 16, -1) ]\n",
    "\n",
    "# let's assume that the key is somehow available again\n",
    "cipher = AES.new(key, AES.MODE_EAX, nonce)\n",
    "data = cipher.decrypt_and_verify(ciphertext, tag)\n",
    "print(data)"
   ]
  },
  {
   "cell_type": "code",
   "execution_count": null,
   "metadata": {},
   "outputs": [],
   "source": []
  }
 ],
 "metadata": {
  "kernelspec": {
   "display_name": "Python 3",
   "language": "python",
   "name": "python3"
  },
  "language_info": {
   "codemirror_mode": {
    "name": "ipython",
    "version": 3
   },
   "file_extension": ".py",
   "mimetype": "text/x-python",
   "name": "python",
   "nbconvert_exporter": "python",
   "pygments_lexer": "ipython3",
   "version": "3.8.1"
  }
 },
 "nbformat": 4,
 "nbformat_minor": 4
}
